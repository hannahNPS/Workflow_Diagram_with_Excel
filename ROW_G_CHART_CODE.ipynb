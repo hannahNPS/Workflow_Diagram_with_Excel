{
 "cells": [
  {
   "cell_type": "code",
   "execution_count": null,
   "metadata": {},
   "outputs": [],
   "source": [
    "import pandas as pd\n",
    "import matplotlib.pyplot as plt\n",
    "import seaborn as sns\n",
    "\n",
    "# Load Excel data from the second sheet\n",
    "excel_file = r'F:\\ROW\\ROW Forms and Permit Templates\\ROW_WORKFLOW_STEPS.xlsx'  # Update this path to your actual Excel file\n",
    "df = pd.read_excel(excel_file, sheet_name=1)  # Assuming sheet 2 is at index 1\n",
    "\n",
    "# Reverse the order of dataframe rows\n",
    "df = df[::-1].reset_index(drop=True)\n",
    "\n",
    "# Create a color palette\n",
    "unique_parties = df['RESPONSIBLE PARTY'].unique()\n",
    "palette = sns.color_palette(\"husl\", len(unique_parties))\n",
    "color_map = dict(zip(unique_parties, palette))\n",
    "\n",
    "# Create the plot with regular width and label settings\n",
    "plt.figure(figsize=(15, 10))  # Adjust the figure size as needed\n",
    "\n",
    "# Loop through the dataframe and plot each task\n",
    "for i, (task, start, duration, party) in enumerate(zip(df['TASK'], df['Start Day'], df['Number of Days'], df['RESPONSIBLE PARTY'])):\n",
    "    plt.barh(y=i, width=start, left=0, color='none', edgecolor='black', hatch='//', alpha=0.3)\n",
    "    plt.barh(y=i, width=duration, left=start, color=color_map[party], edgecolor='black')\n",
    "\n",
    "# Set y-axis ticks and labels\n",
    "plt.yticks(range(len(df)), df['TASK'], fontsize=6)\n",
    "plt.ylabel('Tasks')\n",
    "plt.xlabel('Days')\n",
    "plt.title('Tasks by Responsible Party with Color Coding')\n",
    "\n",
    "# Create a legend\n",
    "handles = [plt.Rectangle((0,0),1,1, color=color_map[party]) for party in unique_parties]\n",
    "plt.legend(handles, unique_parties, title=\"Responsible Party\")\n",
    "\n",
    "# Display the plot\n",
    "plt.tight_layout()\n",
    "plt.show()\n"
   ]
  },
  {
   "cell_type": "code",
   "execution_count": null,
   "metadata": {},
   "outputs": [],
   "source": []
  }
 ],
 "metadata": {
  "kernelspec": {
   "display_name": "ArcGISPro",
   "language": "Python",
   "name": "python3"
  },
  "language_info": {
   "file_extension": ".py",
   "name": "python",
   "version": "3"
  }
 },
 "nbformat": 4,
 "nbformat_minor": 2
}
